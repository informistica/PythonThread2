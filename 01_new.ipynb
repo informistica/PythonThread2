{
  "nbformat": 4,
  "nbformat_minor": 0,
  "metadata": {
    "colab": {
      "provenance": []
    },
    "kernelspec": {
      "name": "python3",
      "display_name": "Python 3"
    },
    "language_info": {
      "name": "python"
    }
  },
  "cells": [
    {
      "cell_type": "markdown",
      "source": [
        "# La programmazione multithreading in Python\n",
        "E' una tecnica avanzata che consente di scrivere programmi in grado di sfruttare l'architettura multi-core dei moderni processori.\n",
        "In pratica, la programmazione multithreading permette di eseguire più thread contemporaneamente, cioè più istruzioni del programma che si eseguono contemporaneamente,\n",
        "migliorando così le prestazioni del programma stesso.\n",
        "\n",
        "\n",
        "In Python, la programmazione multithreading può essere implementata utilizzando il modulo \"threading\" che fornisce un'interfaccia ad alto livello per gestire i thread.\n",
        "La creazione di un nuovo thread avviene mediante la creazione di un oggetto Thread e la definizione di una funzione da eseguire in parallelo.\n",
        "\n",
        "La programmazione multithreading può comportare alcuni problemi,\n",
        "come la sincronizzazione dei thread, la condivisione delle risorse e la gestione degli errori.\n",
        "\n",
        "In generale, la programmazione multithreading può essere utilizzata per migliorare le prestazioni di un programma\n",
        " quando si devono eseguire operazioni lunghe e costose, come l'elaborazione di grandi quantità di dati o l'interazione con dispositivi di input/output.\n",
        "Tuttavia, è importante valutare attentamente se l'uso della programmazione multithreading è appropriato per il proprio programma e,\n",
        "in caso contrario, considerare altre tecniche di ottimizzazione."
      ],
      "metadata": {
        "id": "2tVkkbjfOjXo"
      }
    },
    {
      "cell_type": "code",
      "source": [
        "\"\"\"\n",
        "Creiamo due funzioni worker1 e worker2, che simulano l'esecuzione\n",
        "di operazioni lunghe utilizzando la funzione time.sleep(). Creiamo poi due oggetti Thread\n",
        "utilizzando le funzioni target per indicare quale funzione deve essere eseguita in parallelo.\n",
        "\n",
        "Infine, avviamo i due thread utilizzando il metodo start(), che avvia l'esecuzione del thread,\n",
        "e utilizziamo il metodo join() per attendere che i thread terminino prima di stampare un messaggio di fine programma.\n",
        "\n",
        "L'esecuzione di questo programma dovrebbe mostrare i messaggi dei due worker in ordine casuale,\n",
        "a seconda di quale thread ha avuto il controllo del processore in un determinato momento.\n",
        "\"\"\"\n",
        "\n",
        "import threading\n",
        "import time\n",
        "\n",
        "def worker1():\n",
        "    print(\"Worker 1 inizia...\")\n",
        "    time.sleep(2)  # simuliamo un'operazione lunga 2 secondi\n",
        "    print(\"Worker 1 termina.\")\n",
        "\n",
        "def worker2():\n",
        "    print(\"Worker 2 inizia...\")\n",
        "    time.sleep(1)  # simuliamo un'operazione lunga 1 secondo\n",
        "    print(\"Worker 2 termina.\")\n",
        "\n",
        "# Creiamo due oggetti Thread\n",
        "t1 = threading.Thread(target=worker1)\n",
        "t2 = threading.Thread(target=worker2)\n",
        "\n",
        "# Avviamo i thread\n",
        "t1.start()\n",
        "t2.start()\n",
        "\n",
        "# Attendiamo che i thread terminino\n",
        "t1.join()\n",
        "t2.join()\n",
        "\n",
        "print(\"Fine del programma.\")\n",
        "\n"
      ],
      "metadata": {
        "colab": {
          "base_uri": "https://localhost:8080/"
        },
        "id": "pBx5_Sl9Ooe8",
        "outputId": "2b09b959-c674-469a-a3b4-861acdc6b09b"
      },
      "execution_count": null,
      "outputs": [
        {
          "output_type": "stream",
          "name": "stdout",
          "text": [
            "Worker 1 inizia...\n",
            "Worker 2 inizia...\n",
            "Worker 2 termina.\n",
            "Worker 1 termina.\n",
            "Fine del programma.\n"
          ]
        }
      ]
    },
    {
      "cell_type": "code",
      "source": [
        "\"\"\"\n",
        "Creaiamo una funzione thread assegnata a 3 thread con dei parametri\n",
        "passati alla funzione tramite la tupla args\n",
        "Da notare il diverso modo di importare il modulo threading e di creare i thread\n",
        "\"\"\"\n",
        "#import threading\n",
        "from threading import Thread\n",
        "import time\n",
        "\n",
        "def thread(name,arg):\n",
        "    print(f\"Thread {name} partito, sleep per {arg}s\\n\")\n",
        "    time.sleep(arg)\n",
        "    print(f\"Thread {name} terminato\\n\")\n",
        "\n",
        "\n",
        "#t1 = threading.Thread(target=thread, args=(\"DIN\",1,))\n",
        "t1 = Thread(target=thread, args=(\"DIN\",1,))\n",
        "t2 = Thread(target=thread, args=(\"DON\",2,))\n",
        "t3 = Thread(target=thread, args=(\"DAN\",3,))\n",
        "\n",
        "t1.start()\n",
        "t2.start()\n",
        "t3.start()\n",
        "\n",
        "t1.join()\n",
        "t2.join()\n",
        "t3.join()\n",
        "\n",
        "print(\"Main terminato\")\n"
      ],
      "metadata": {
        "id": "sk0hYP_cwH_5",
        "colab": {
          "base_uri": "https://localhost:8080/"
        },
        "outputId": "5251c7f5-d026-46a6-d9a0-5374426233f8"
      },
      "execution_count": 7,
      "outputs": [
        {
          "output_type": "stream",
          "name": "stdout",
          "text": [
            "Thread DIN partito, sleep per 1s\n",
            "\n",
            "Thread DON partito, sleep per 2s\n",
            "\n",
            "Thread DAN partito, sleep per 3s\n",
            "\n",
            "Thread DIN terminato\n",
            "\n",
            "Thread DON terminato\n",
            "\n",
            "Thread DAN terminato\n",
            "\n",
            "Main terminato\n"
          ]
        }
      ]
    },
    {
      "cell_type": "markdown",
      "source": [
        "Esempio più concreto di come utilizzare il modulo \"threading\" per creare due thread che eseguono in parallelo, in questo caso simulando il download di due file da internet:"
      ],
      "metadata": {
        "id": "IK1PUS3wPbIC"
      }
    },
    {
      "cell_type": "code",
      "source": [
        "\"\"\"\n",
        "Creiamo una funzione download_file che simula il download di un file da internet\n",
        "utilizzando la funzione time.sleep().\n",
        "Creiamo poi due oggetti Thread utilizzando le funzioni target e args per indicare\n",
        "quale funzione deve essere eseguita in parallelo e quali argomenti devono essere passati alla funzione.\n",
        "\n",
        "Infine, avviamo i due thread utilizzando il metodo start(), e utilizziamo il metodo join()\n",
        "per attendere che i thread terminino prima di stampare un messaggio di completamento del download.\n",
        "\n",
        "L'esecuzione di questo programma dovrebbe mostrare i messaggi di download completato dei due file in ordine casuale,\n",
        "a seconda di quale thread ha avuto il controllo del processore in un determinato momento.\n",
        "\n",
        "\"\"\"\n",
        "\n",
        "from threading import Thread\n",
        "import time\n",
        "\n",
        "def download_file(url, file_name):\n",
        "    print(f\"Inizio download di {file_name}...\")\n",
        "    time.sleep(2) # simuliamo un download di 2 secondi\n",
        "    print(f\"Download di {file_name} completato.\")\n",
        "\n",
        "# URL dei file da scaricare\n",
        "url_file1 = \"https://www.example.com/file1.txt\"\n",
        "url_file2 = \"https://www.example.com/file2.txt\"\n",
        "\n",
        "# Creiamo due oggetti Thread per scaricare i file\n",
        "t1 = Thread(target=download_file, args=(url_file1, \"file1.txt\"))\n",
        "t2 = Thread(target=download_file, args=(url_file2, \"file2.txt\"))\n",
        "\n",
        "# Avviamo i thread\n",
        "t1.start()\n",
        "t2.start()\n",
        "\n",
        "# Attendo che i thread terminino\n",
        "t1.join()\n",
        "t2.join()\n",
        "\n",
        "print(\"Download completati.\")\n",
        "\n"
      ],
      "metadata": {
        "id": "-VYztnLXPkAr",
        "colab": {
          "base_uri": "https://localhost:8080/"
        },
        "outputId": "c9c93966-81cd-49c4-c1de-8e54eab8ed8d"
      },
      "execution_count": 8,
      "outputs": [
        {
          "output_type": "stream",
          "name": "stdout",
          "text": [
            "Inizio download di file1.txt...Inizio download di file2.txt...\n",
            "\n",
            "Download di file2.txt completato.Download di file1.txt completato.\n",
            "\n",
            "Download completati.\n"
          ]
        }
      ]
    },
    {
      "cell_type": "markdown",
      "source": [
        "Esempio reale di come utilizzare il modulo \"threading\" per scaricare più file da internet contemporaneamente utilizzando il modulo urllib:"
      ],
      "metadata": {
        "id": "IGE8FGlJP6w4"
      }
    },
    {
      "cell_type": "code",
      "source": [
        "\"\"\"\n",
        "utilizziamo il modulo urllib per scaricare i file dal URL e salvarli sul disco utilizzando la funzione urlretrieve.\n",
        "Creiamo poi un oggetto Thread per ogni file da scaricare utilizzando la funzione target e args, e aggiungiamo ogni oggetto Thread ad una lista.\n",
        "\n",
        "Infine, avviamo i thread utilizzando il metodo start() su ogni oggetto Thread\n",
        "e utilizziamo il metodo join() per attendere che tutti i thread terminino prima di stampare un messaggio di completamento del download.\n",
        "\n",
        "L'esecuzione di questo programma dovrebbe scaricare i tre file contemporaneamente\n",
        "e mostrare i messaggi di completamento del download in ordine casuale,\n",
        "a seconda di quale thread ha avuto il controllo del processore in un determinato momento.\n",
        "\"\"\"\n",
        "\n",
        "from threading import Thread\n",
        "from urllib.request import urlretrieve\n",
        "\n",
        "def download_file(url, file_name):\n",
        "    print(f\"Inizio download di {file_name}...\")\n",
        "    urlretrieve(url, file_name) # scarica il file dal URL e salvalo con il nome specificato\n",
        "    print(f\"Download di {file_name} completato.\")\n",
        "\n",
        "# URL dei file da scaricare\n",
        "urls = [ \"http://elexpo.altervista.org/r.txt\",\"https://jsonplaceholder.typicode.com/users\", \"https://jsonplaceholder.typicode.com/posts\"]\n",
        "\n",
        "# Creiamo un oggetto Thread per ogni file da scaricare\n",
        "threads = []\n",
        "for i, url in enumerate(urls):\n",
        "    file_name = f\"file{i+1}.txt\"\n",
        "    t = Thread(target=download_file, args=(url, file_name))\n",
        "    threads.append(t)\n",
        "\n",
        "# Avviamo i thread\n",
        "for t in threads:\n",
        "    t.start()\n",
        "\n",
        "# Attendo che i thread terminino\n",
        "for t in threads:\n",
        "    t.join()\n",
        "\n",
        "print(\"Download completati.\")\n",
        "\n"
      ],
      "metadata": {
        "id": "6n9JdVWxQAXh",
        "colab": {
          "base_uri": "https://localhost:8080/"
        },
        "outputId": "4d8638f7-00ed-4366-bba6-24912453cbc1"
      },
      "execution_count": 9,
      "outputs": [
        {
          "output_type": "stream",
          "name": "stdout",
          "text": [
            "Inizio download di file1.txt...\n",
            "Inizio download di file2.txt...\n",
            "Inizio download di file3.txt...\n",
            "Download di file2.txt completato.\n",
            "Download di file3.txt completato.\n",
            "Download di file1.txt completato.\n",
            "Download completati.\n"
          ]
        }
      ]
    },
    {
      "cell_type": "markdown",
      "source": [
        "Esempio di come due thread possono condividere un dato tramite una variabile condivisa:"
      ],
      "metadata": {
        "id": "f1gd0AJyQZ7S"
      }
    },
    {
      "cell_type": "code",
      "source": [
        "'''\n",
        "Definiamo una variabile condivisa shared_data che viene utilizzata da entrambi i thread.\n",
        "Il primo thread, thread1(), inizializza la variabile condivisa a 0,\n",
        "la incrementa dopo 2 secondi di elaborazione e poi stampa il nuovo valore.\n",
        "Il secondo thread, thread2(), legge la variabile condivisa,\n",
        "aspetta 1 secondo di elaborazione, e poi stampa un messaggio di completamento.\n",
        "\n",
        "'''\n",
        "\n",
        "from threading import Thread\n",
        "import time\n",
        "\n",
        "# Variabile condivisa\n",
        "shared_data = 0\n",
        "\n",
        "def thread1():\n",
        "    global shared_data\n",
        "    print(f\"Thread1 ha inizializzato shared_data = {shared_data}\")\n",
        "    time.sleep(2) # simuliamo una elaborazione di 2 secondi\n",
        "    shared_data += 1 # incrementa la variabile condivisa\n",
        "    print(f\"Thread1 ha modificato shared_data = {shared_data}\")\n",
        "\n",
        "def thread2():\n",
        "    global shared_data\n",
        "    print(f\"Thread2 ha letto shared_data = {shared_data}\")\n",
        "    time.sleep(1) # simuliamo una elaborazione di 1 secondo\n",
        "    print(f\"Thread2 ha finito di elaborare shared_data\")\n",
        "\n",
        "# Creiamo due oggetti Thread\n",
        "t1 = Thread(target=thread1)\n",
        "t2 = Thread(target=thread2)\n",
        "\n",
        "# Avviamo i thread\n",
        "t1.start()\n",
        "t2.start()\n",
        "\n",
        "# Attendo che i thread terminino\n",
        "t1.join()\n",
        "t2.join()\n",
        "\n",
        "print(\"Esecuzione completata.\")\n",
        "\n"
      ],
      "metadata": {
        "colab": {
          "base_uri": "https://localhost:8080/"
        },
        "id": "jsILYPeUQdLh",
        "outputId": "968f8466-903c-4a1d-a19b-09e9d0199f23"
      },
      "execution_count": null,
      "outputs": [
        {
          "output_type": "stream",
          "name": "stdout",
          "text": [
            "Thread1 ha inizializzato shared_data = 0\n",
            "Thread2 ha letto shared_data = 0\n",
            "Thread2 ha finito di elaborare shared_data\n",
            "Thread1 ha modificato shared_data = 1\n",
            "Esecuzione completata.\n"
          ]
        }
      ]
    }
  ]
}